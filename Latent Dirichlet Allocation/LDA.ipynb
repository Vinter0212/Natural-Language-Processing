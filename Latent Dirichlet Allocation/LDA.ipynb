{
 "cells": [
  {
   "cell_type": "markdown",
   "metadata": {},
   "source": [
    "<h1> Name: Vinayak Gupta (vg101) </h1>"
   ]
  },
  {
   "cell_type": "markdown",
   "metadata": {},
   "source": [
    "<h2> Question 1 </h2>"
   ]
  },
  {
   "cell_type": "code",
   "execution_count": 1,
   "metadata": {},
   "outputs": [],
   "source": [
    "import numpy as np"
   ]
  },
  {
   "cell_type": "code",
   "execution_count": 2,
   "metadata": {},
   "outputs": [],
   "source": [
    "def lda(vocabulary, beta, alpha, xi):\n",
    "    num_words= np.random.poisson(xi)\n",
    "    word_list=[]\n",
    "    topic_dist=np.random.dirichlet(alpha)\n",
    "    #print(topic_dist)\n",
    "    #print(num_words)\n",
    "    for i in range(num_words):\n",
    "        topic_selected= np.random.choice(range(len(alpha)),p=topic_dist)\n",
    "        word_list.append(np.random.choice(vocabulary,p = beta[topic_selected]))\n",
    "    return word_list"
   ]
  },
  {
   "cell_type": "code",
   "execution_count": 3,
   "metadata": {},
   "outputs": [],
   "source": [
    "vocabulary = ['bass', 'pike', 'deep', 'tuba', 'horn', 'catapult']\n",
    "beta = np.array([[0.4, 0.4, 0.2, 0.0, 0.0, 0.0],[0.0, 0.3, 0.1, 0.0, 0.3, 0.3],[0.3, 0.0, 0.2, 0.3, 0.2, 0.0]])\n",
    "alpha = np.array([1, 3, 8])\n",
    "xi = 50"
   ]
  },
  {
   "cell_type": "code",
   "execution_count": 4,
   "metadata": {
    "scrolled": true
   },
   "outputs": [
    {
     "data": {
      "text/plain": [
       "['horn',\n",
       " 'horn',\n",
       " 'bass',\n",
       " 'horn',\n",
       " 'pike',\n",
       " 'tuba',\n",
       " 'tuba',\n",
       " 'tuba',\n",
       " 'pike',\n",
       " 'bass',\n",
       " 'bass',\n",
       " 'bass',\n",
       " 'catapult',\n",
       " 'horn',\n",
       " 'horn',\n",
       " 'horn',\n",
       " 'tuba',\n",
       " 'pike',\n",
       " 'pike',\n",
       " 'deep',\n",
       " 'deep',\n",
       " 'catapult',\n",
       " 'bass',\n",
       " 'tuba',\n",
       " 'deep',\n",
       " 'tuba',\n",
       " 'deep',\n",
       " 'tuba',\n",
       " 'bass',\n",
       " 'tuba',\n",
       " 'horn',\n",
       " 'deep',\n",
       " 'catapult',\n",
       " 'bass',\n",
       " 'bass',\n",
       " 'deep',\n",
       " 'horn',\n",
       " 'bass',\n",
       " 'bass',\n",
       " 'deep',\n",
       " 'horn',\n",
       " 'tuba',\n",
       " 'bass',\n",
       " 'deep',\n",
       " 'bass',\n",
       " 'tuba',\n",
       " 'tuba',\n",
       " 'horn',\n",
       " 'pike',\n",
       " 'horn',\n",
       " 'bass',\n",
       " 'horn',\n",
       " 'bass',\n",
       " 'bass']"
      ]
     },
     "execution_count": 4,
     "metadata": {},
     "output_type": "execute_result"
    }
   ],
   "source": [
    "first_document=lda(vocabulary, beta, alpha, xi)\n",
    "first_document"
   ]
  },
  {
   "cell_type": "markdown",
   "metadata": {},
   "source": [
    "<h2> Question 2 </h2>"
   ]
  },
  {
   "cell_type": "code",
   "execution_count": 5,
   "metadata": {},
   "outputs": [],
   "source": [
    "from gensim.corpora import Dictionary"
   ]
  },
  {
   "cell_type": "code",
   "execution_count": 6,
   "metadata": {},
   "outputs": [],
   "source": [
    "import gensim"
   ]
  },
  {
   "cell_type": "code",
   "execution_count": 16,
   "metadata": {},
   "outputs": [],
   "source": [
    "corpus=[first_document]"
   ]
  },
  {
   "cell_type": "code",
   "execution_count": 17,
   "metadata": {
    "scrolled": true
   },
   "outputs": [],
   "source": [
    "for i in range(150):\n",
    "    doc_i= lda(vocabulary, beta, alpha, xi)\n",
    "    corpus.append(doc_i)"
   ]
  },
  {
   "cell_type": "code",
   "execution_count": 18,
   "metadata": {},
   "outputs": [],
   "source": [
    "dct = Dictionary(corpus)"
   ]
  },
  {
   "cell_type": "code",
   "execution_count": 19,
   "metadata": {},
   "outputs": [],
   "source": [
    "new_dict={}\n",
    "for i in dct.token2id:\n",
    "    new_dict[dct.token2id[i]] = i"
   ]
  },
  {
   "cell_type": "code",
   "execution_count": 20,
   "metadata": {},
   "outputs": [],
   "source": [
    "corpus = [dct.doc2bow(doc) for doc in corpus]\n"
   ]
  },
  {
   "cell_type": "code",
   "execution_count": 21,
   "metadata": {},
   "outputs": [],
   "source": [
    "model = gensim.models.LdaModel(corpus,\n",
    "                               alpha='auto',\n",
    "                               num_topics=3,passes=10)"
   ]
  },
  {
   "cell_type": "code",
   "execution_count": 22,
   "metadata": {},
   "outputs": [
    {
     "name": "stdout",
     "output_type": "stream",
     "text": [
      "[('bass', 0.18376976), ('catapult', 0.06651944), ('deep', 0.111645885), ('horn', 0.29609147), ('pike', 0.0920999), ('tuba', 0.24987353)]\n",
      "[('bass', 0.2978487), ('catapult', 0.046485063), ('deep', 0.21637346), ('horn', 0.15347585), ('pike', 0.11853444), ('tuba', 0.16728243)]\n",
      "[('bass', 0.048892003), ('catapult', 0.29045704), ('deep', 0.18997428), ('horn', 0.20204902), ('pike', 0.19269599), ('tuba', 0.075931706)]\n"
     ]
    }
   ],
   "source": [
    "for i in range(3):\n",
    "    topic_dist= model.show_topic(i)\n",
    "    topic_dist.sort(key=lambda x: x[0])\n",
    "    val=[(new_dict[int(x[0])],x[1]) for x in topic_dist]\n",
    "    print(val)"
   ]
  }
 ],
 "metadata": {
  "kernelspec": {
   "display_name": "Python 3",
   "language": "python",
   "name": "python3"
  },
  "language_info": {
   "codemirror_mode": {
    "name": "ipython",
    "version": 3
   },
   "file_extension": ".py",
   "mimetype": "text/x-python",
   "name": "python",
   "nbconvert_exporter": "python",
   "pygments_lexer": "ipython3",
   "version": "3.7.5"
  }
 },
 "nbformat": 4,
 "nbformat_minor": 2
}
