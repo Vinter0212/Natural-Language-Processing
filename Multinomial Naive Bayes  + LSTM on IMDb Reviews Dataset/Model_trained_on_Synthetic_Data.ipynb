{
  "nbformat": 4,
  "nbformat_minor": 0,
  "metadata": {
    "colab": {
      "name": "Model trained on Synthetic Data.ipynb",
      "provenance": [],
      "collapsed_sections": []
    },
    "kernelspec": {
      "name": "python3",
      "display_name": "Python 3"
    }
  },
  "cells": [
    {
      "cell_type": "code",
      "metadata": {
        "id": "ecU89NBNut37"
      },
      "source": [
        "#Load the libraries\n",
        "import numpy as np\n",
        "import pandas as pd\n",
        "import matplotlib.pyplot as plt\n",
        "import nltk\n",
        "from sklearn.feature_extraction.text import CountVectorizer\n",
        "from nltk.corpus import stopwords\n",
        "from nltk.stem.porter import PorterStemmer\n",
        "from nltk.stem import WordNetLemmatizer\n",
        "from nltk.tokenize import word_tokenize,sent_tokenize\n",
        "from bs4 import BeautifulSoup\n",
        "import re,string,unicodedata\n",
        "from nltk.tokenize.toktok import ToktokTokenizer\n",
        "from nltk.stem import LancasterStemmer,WordNetLemmatizer\n",
        "from sklearn.naive_bayes import MultinomialNB\n",
        "from sklearn.metrics import classification_report,confusion_matrix,accuracy_score\n",
        "from sklearn.model_selection import train_test_split\n",
        "from keras.preprocessing.text import Tokenizer\n",
        "from keras.preprocessing.sequence import pad_sequences\n",
        "import warnings\n",
        "warnings.filterwarnings('ignore')"
      ],
      "execution_count": 104,
      "outputs": []
    },
    {
      "cell_type": "markdown",
      "metadata": {
        "id": "hj3aKf999TIg"
      },
      "source": [
        "**Preprocessing**"
      ]
    },
    {
      "cell_type": "code",
      "metadata": {
        "colab": {
          "base_uri": "https://localhost:8080/"
        },
        "id": "GCYMLOUNzIY4",
        "outputId": "bad75122-c69b-45e9-9cb3-3c4280610f1f"
      },
      "source": [
        "from google.colab import drive\n",
        "drive.mount('/content/drive')"
      ],
      "execution_count": 105,
      "outputs": [
        {
          "output_type": "stream",
          "text": [
            "Drive already mounted at /content/drive; to attempt to forcibly remount, call drive.mount(\"/content/drive\", force_remount=True).\n"
          ],
          "name": "stdout"
        }
      ]
    },
    {
      "cell_type": "code",
      "metadata": {
        "id": "yZAfArNHu4vk",
        "colab": {
          "base_uri": "https://localhost:8080/",
          "height": 381
        },
        "outputId": "44f56b6e-11fe-4e28-f9e5-3a66249f767a"
      },
      "source": [
        "imdb_data = pd.read_csv('/content/drive/My Drive/NLPAssignments/Project/generated_data.csv')\n",
        "print(imdb_data.shape)\n",
        "imdb_data.head(10)"
      ],
      "execution_count": 106,
      "outputs": [
        {
          "output_type": "stream",
          "text": [
            "(1000, 2)\n"
          ],
          "name": "stdout"
        },
        {
          "output_type": "execute_result",
          "data": {
            "text/html": [
              "<div>\n",
              "<style scoped>\n",
              "    .dataframe tbody tr th:only-of-type {\n",
              "        vertical-align: middle;\n",
              "    }\n",
              "\n",
              "    .dataframe tbody tr th {\n",
              "        vertical-align: top;\n",
              "    }\n",
              "\n",
              "    .dataframe thead th {\n",
              "        text-align: right;\n",
              "    }\n",
              "</style>\n",
              "<table border=\"1\" class=\"dataframe\">\n",
              "  <thead>\n",
              "    <tr style=\"text-align: right;\">\n",
              "      <th></th>\n",
              "      <th>review</th>\n",
              "      <th>sentiment</th>\n",
              "    </tr>\n",
              "  </thead>\n",
              "  <tbody>\n",
              "    <tr>\n",
              "      <th>0</th>\n",
              "      <td>paxton awesom hi heel away floor reid typic be...</td>\n",
              "      <td>1</td>\n",
              "    </tr>\n",
              "    <tr>\n",
              "      <th>1</th>\n",
              "      <td>raf tenaci spook cattl cultmovieareai process ...</td>\n",
              "      <td>1</td>\n",
              "    </tr>\n",
              "    <tr>\n",
              "      <th>2</th>\n",
              "      <td>otherseven thi angl came unnatur truli armi is...</td>\n",
              "      <td>1</td>\n",
              "    </tr>\n",
              "    <tr>\n",
              "      <th>3</th>\n",
              "      <td>woman determin self whi purvi wa icon perfect ...</td>\n",
              "      <td>1</td>\n",
              "    </tr>\n",
              "    <tr>\n",
              "      <th>4</th>\n",
              "      <td>erot though never introduc wa believ pois self...</td>\n",
              "      <td>1</td>\n",
              "    </tr>\n",
              "    <tr>\n",
              "      <th>5</th>\n",
              "      <td>greatest politician time teacher director anyt...</td>\n",
              "      <td>1</td>\n",
              "    </tr>\n",
              "    <tr>\n",
              "      <th>6</th>\n",
              "      <td>betti cult follow especi film industri booksho...</td>\n",
              "      <td>1</td>\n",
              "    </tr>\n",
              "    <tr>\n",
              "      <th>7</th>\n",
              "      <td>wa mesmer martin shi approach nun held qualiti...</td>\n",
              "      <td>1</td>\n",
              "    </tr>\n",
              "    <tr>\n",
              "      <th>8</th>\n",
              "      <td>romant film time blond ani abandon protagonist...</td>\n",
              "      <td>1</td>\n",
              "    </tr>\n",
              "    <tr>\n",
              "      <th>9</th>\n",
              "      <td>blackandwhit anyway blood leav mire requir not...</td>\n",
              "      <td>1</td>\n",
              "    </tr>\n",
              "  </tbody>\n",
              "</table>\n",
              "</div>"
            ],
            "text/plain": [
              "                                              review  sentiment\n",
              "0  paxton awesom hi heel away floor reid typic be...          1\n",
              "1  raf tenaci spook cattl cultmovieareai process ...          1\n",
              "2  otherseven thi angl came unnatur truli armi is...          1\n",
              "3  woman determin self whi purvi wa icon perfect ...          1\n",
              "4  erot though never introduc wa believ pois self...          1\n",
              "5  greatest politician time teacher director anyt...          1\n",
              "6  betti cult follow especi film industri booksho...          1\n",
              "7  wa mesmer martin shi approach nun held qualiti...          1\n",
              "8  romant film time blond ani abandon protagonist...          1\n",
              "9  blackandwhit anyway blood leav mire requir not...          1"
            ]
          },
          "metadata": {
            "tags": []
          },
          "execution_count": 106
        }
      ]
    },
    {
      "cell_type": "code",
      "metadata": {
        "colab": {
          "base_uri": "https://localhost:8080/",
          "height": 300
        },
        "id": "V_FRtc-KwB8K",
        "outputId": "95da2658-1c5c-4f66-f9d7-70012081e9ea"
      },
      "source": [
        "imdb_data.describe()"
      ],
      "execution_count": 107,
      "outputs": [
        {
          "output_type": "execute_result",
          "data": {
            "text/html": [
              "<div>\n",
              "<style scoped>\n",
              "    .dataframe tbody tr th:only-of-type {\n",
              "        vertical-align: middle;\n",
              "    }\n",
              "\n",
              "    .dataframe tbody tr th {\n",
              "        vertical-align: top;\n",
              "    }\n",
              "\n",
              "    .dataframe thead th {\n",
              "        text-align: right;\n",
              "    }\n",
              "</style>\n",
              "<table border=\"1\" class=\"dataframe\">\n",
              "  <thead>\n",
              "    <tr style=\"text-align: right;\">\n",
              "      <th></th>\n",
              "      <th>sentiment</th>\n",
              "    </tr>\n",
              "  </thead>\n",
              "  <tbody>\n",
              "    <tr>\n",
              "      <th>count</th>\n",
              "      <td>1000.00000</td>\n",
              "    </tr>\n",
              "    <tr>\n",
              "      <th>mean</th>\n",
              "      <td>0.50000</td>\n",
              "    </tr>\n",
              "    <tr>\n",
              "      <th>std</th>\n",
              "      <td>0.50025</td>\n",
              "    </tr>\n",
              "    <tr>\n",
              "      <th>min</th>\n",
              "      <td>0.00000</td>\n",
              "    </tr>\n",
              "    <tr>\n",
              "      <th>25%</th>\n",
              "      <td>0.00000</td>\n",
              "    </tr>\n",
              "    <tr>\n",
              "      <th>50%</th>\n",
              "      <td>0.50000</td>\n",
              "    </tr>\n",
              "    <tr>\n",
              "      <th>75%</th>\n",
              "      <td>1.00000</td>\n",
              "    </tr>\n",
              "    <tr>\n",
              "      <th>max</th>\n",
              "      <td>1.00000</td>\n",
              "    </tr>\n",
              "  </tbody>\n",
              "</table>\n",
              "</div>"
            ],
            "text/plain": [
              "        sentiment\n",
              "count  1000.00000\n",
              "mean      0.50000\n",
              "std       0.50025\n",
              "min       0.00000\n",
              "25%       0.00000\n",
              "50%       0.50000\n",
              "75%       1.00000\n",
              "max       1.00000"
            ]
          },
          "metadata": {
            "tags": []
          },
          "execution_count": 107
        }
      ]
    },
    {
      "cell_type": "code",
      "metadata": {
        "colab": {
          "base_uri": "https://localhost:8080/"
        },
        "id": "gnC7C_OKya6h",
        "outputId": "7847ef80-982c-4599-d23c-28adf20f6968"
      },
      "source": [
        "imdb_data['sentiment'].value_counts()"
      ],
      "execution_count": 108,
      "outputs": [
        {
          "output_type": "execute_result",
          "data": {
            "text/plain": [
              "1    500\n",
              "0    500\n",
              "Name: sentiment, dtype: int64"
            ]
          },
          "metadata": {
            "tags": []
          },
          "execution_count": 108
        }
      ]
    },
    {
      "cell_type": "code",
      "metadata": {
        "id": "hVnOtTKJ9zmU"
      },
      "source": [
        "X= imdb_data['review']\n",
        "y = imdb_data['sentiment']\n"
      ],
      "execution_count": 109,
      "outputs": []
    },
    {
      "cell_type": "code",
      "metadata": {
        "id": "ickf0Yi-9QQl"
      },
      "source": [
        "X_train, X_test, y_train, y_test = train_test_split(X, y, test_size=0.20, random_state=42)"
      ],
      "execution_count": 146,
      "outputs": []
    },
    {
      "cell_type": "markdown",
      "metadata": {
        "id": "Gy2MTMTW_BFp"
      },
      "source": [
        "**Generative** **model**"
      ]
    },
    {
      "cell_type": "code",
      "metadata": {
        "colab": {
          "base_uri": "https://localhost:8080/"
        },
        "id": "jZC524F43wxh",
        "outputId": "0f79d2dc-4e0f-44bb-9fce-3d798ecaa063"
      },
      "source": [
        "cv=CountVectorizer(min_df=0,max_df=1,binary=False,ngram_range=(1,3))\n",
        "cv_train_reviews=cv.fit_transform(X_train)\n",
        "cv_test_reviews=cv.transform(X_test)\n",
        "\n",
        "print(cv_train_reviews[0].shape)\n",
        "print('BOW_cv_train:',cv_train_reviews.shape)\n",
        "print('BOW_cv_test:',cv_test_reviews.shape)"
      ],
      "execution_count": 111,
      "outputs": [
        {
          "output_type": "stream",
          "text": [
            "(1, 129990)\n",
            "BOW_cv_train: (800, 129990)\n",
            "BOW_cv_test: (200, 129990)\n"
          ],
          "name": "stdout"
        }
      ]
    },
    {
      "cell_type": "code",
      "metadata": {
        "id": "vhZenyTc4NgX"
      },
      "source": [
        "mnb=MultinomialNB()\n",
        "mnb_bow=mnb.fit(cv_train_reviews,y_train)"
      ],
      "execution_count": 113,
      "outputs": []
    },
    {
      "cell_type": "code",
      "metadata": {
        "id": "ExNedsMY4Vdj"
      },
      "source": [
        "mnb_bow_predict=mnb_bow.predict(cv_test_reviews)"
      ],
      "execution_count": 114,
      "outputs": []
    },
    {
      "cell_type": "code",
      "metadata": {
        "colab": {
          "base_uri": "https://localhost:8080/"
        },
        "id": "8Ui-W5Ku4XxL",
        "outputId": "6a422cb5-bab7-4b2e-c4e8-546e32898322"
      },
      "source": [
        "mnb_bow_score=accuracy_score(y_test,mnb_bow_predict)\n",
        "print(\"mnb_bow_score :\",mnb_bow_score)"
      ],
      "execution_count": 115,
      "outputs": [
        {
          "output_type": "stream",
          "text": [
            "mnb_bow_score : 0.58\n"
          ],
          "name": "stdout"
        }
      ]
    },
    {
      "cell_type": "code",
      "metadata": {
        "colab": {
          "base_uri": "https://localhost:8080/"
        },
        "id": "sH_t4bek4iSb",
        "outputId": "fbe70c5c-ea4d-4d80-8160-e4e76c3292d4"
      },
      "source": [
        "mnb_bow_report=classification_report(y_test,mnb_bow_predict,target_names=['Positive','Negative'])\n",
        "print(mnb_bow_report)"
      ],
      "execution_count": 116,
      "outputs": [
        {
          "output_type": "stream",
          "text": [
            "              precision    recall  f1-score   support\n",
            "\n",
            "    Positive       0.59      0.62      0.61       104\n",
            "    Negative       0.57      0.53      0.55        96\n",
            "\n",
            "    accuracy                           0.58       200\n",
            "   macro avg       0.58      0.58      0.58       200\n",
            "weighted avg       0.58      0.58      0.58       200\n",
            "\n"
          ],
          "name": "stdout"
        }
      ]
    },
    {
      "cell_type": "code",
      "metadata": {
        "colab": {
          "base_uri": "https://localhost:8080/"
        },
        "id": "vBz0LuSk4mxQ",
        "outputId": "47c89b01-b8b5-42b3-bb6a-a1b138aae39c"
      },
      "source": [
        "cm_bow=confusion_matrix(y_test,mnb_bow_predict)\n",
        "print(cm_bow)"
      ],
      "execution_count": 117,
      "outputs": [
        {
          "output_type": "stream",
          "text": [
            "[[65 39]\n",
            " [45 51]]\n"
          ],
          "name": "stdout"
        }
      ]
    },
    {
      "cell_type": "markdown",
      "metadata": {
        "id": "EkFUpsai_YiU"
      },
      "source": [
        "**Discriminative** **LSTM**"
      ]
    },
    {
      "cell_type": "code",
      "metadata": {
        "id": "BLVcU-wvA1QB"
      },
      "source": [
        "from numpy import array\n",
        "from keras.preprocessing.text import one_hot\n",
        "from keras.models import Sequential\n",
        "from keras.layers.core import Activation, Dropout, Dense\n",
        "from keras.layers import Flatten, LSTM\n",
        "from keras.layers import GlobalMaxPooling1D\n",
        "from keras.layers.embeddings import Embedding\n",
        "from numpy import asarray\n",
        "from numpy import zeros"
      ],
      "execution_count": 147,
      "outputs": []
    },
    {
      "cell_type": "code",
      "metadata": {
        "id": "zEznrIUI_eO6"
      },
      "source": [
        "tokenizer = Tokenizer(num_words=5000)\n",
        "tokenizer.fit_on_texts(X_train)\n",
        "\n",
        "X_train = tokenizer.texts_to_sequences(X_train)\n",
        "X_test = tokenizer.texts_to_sequences(X_test)"
      ],
      "execution_count": 148,
      "outputs": []
    },
    {
      "cell_type": "code",
      "metadata": {
        "id": "TtIHErsa_mER"
      },
      "source": [
        "vocab_size = len(tokenizer.word_index) + 1\n",
        "\n",
        "maxlen = 100\n",
        "\n",
        "X_train = pad_sequences(X_train, padding='post', maxlen=maxlen)\n",
        "X_test = pad_sequences(X_test, padding='post', maxlen=maxlen)"
      ],
      "execution_count": 149,
      "outputs": []
    },
    {
      "cell_type": "code",
      "metadata": {
        "id": "UZXCUoDIAqbz"
      },
      "source": [
        "embeddings_dictionary = dict()\n",
        "glove_file = open('/content/drive/My Drive/NLPAssignments/Project/glove.6B.100d.txt', encoding=\"utf8\")\n",
        "\n",
        "for line in glove_file:\n",
        "    records = line.split()\n",
        "    word = records[0]\n",
        "    vector_dimensions = asarray(records[1:], dtype='float32')\n",
        "    embeddings_dictionary [word] = vector_dimensions\n",
        "glove_file.close()"
      ],
      "execution_count": 150,
      "outputs": []
    },
    {
      "cell_type": "code",
      "metadata": {
        "id": "MkcQ8JyYAtor"
      },
      "source": [
        "embedding_matrix = zeros((vocab_size, 100))\n",
        "for word, index in tokenizer.word_index.items():\n",
        "    embedding_vector = embeddings_dictionary.get(word)\n",
        "    if embedding_vector is not None:\n",
        "        embedding_matrix[index] = embedding_vector"
      ],
      "execution_count": 151,
      "outputs": []
    },
    {
      "cell_type": "code",
      "metadata": {
        "id": "Phu5_odRAvv3"
      },
      "source": [
        "model = Sequential()\n",
        "embedding_layer = Embedding(vocab_size, 100, weights=[embedding_matrix], input_length=maxlen , trainable=False)\n",
        "model.add(embedding_layer)\n",
        "model.add(LSTM(128))\n",
        "\n",
        "model.add(Dense(1, activation='sigmoid'))\n",
        "model.compile(optimizer='adam', loss='binary_crossentropy', metrics=['acc'])"
      ],
      "execution_count": 153,
      "outputs": []
    },
    {
      "cell_type": "code",
      "metadata": {
        "colab": {
          "base_uri": "https://localhost:8080/"
        },
        "id": "Oy6Hc8mJAxuF",
        "outputId": "5fac2c7c-0dee-4b7b-fbe7-2300ab3f6976"
      },
      "source": [
        "print(model.summary())"
      ],
      "execution_count": 154,
      "outputs": [
        {
          "output_type": "stream",
          "text": [
            "Model: \"sequential_5\"\n",
            "_________________________________________________________________\n",
            "Layer (type)                 Output Shape              Param #   \n",
            "=================================================================\n",
            "embedding_5 (Embedding)      (None, 100, 100)          1412500   \n",
            "_________________________________________________________________\n",
            "lstm_5 (LSTM)                (None, 128)               117248    \n",
            "_________________________________________________________________\n",
            "dense_5 (Dense)              (None, 1)                 129       \n",
            "=================================================================\n",
            "Total params: 1,529,877\n",
            "Trainable params: 117,377\n",
            "Non-trainable params: 1,412,500\n",
            "_________________________________________________________________\n",
            "None\n"
          ],
          "name": "stdout"
        }
      ]
    },
    {
      "cell_type": "code",
      "metadata": {
        "colab": {
          "base_uri": "https://localhost:8080/"
        },
        "id": "wAUsnyjcBN6Y",
        "outputId": "72baca0b-bd78-4b5c-a893-97495f481dc8"
      },
      "source": [
        "history = model.fit(X_train, y_train, epochs=20, verbose=1, validation_split=0.2)\n",
        "score = model.evaluate(X_test, y_test, verbose=1)"
      ],
      "execution_count": 155,
      "outputs": [
        {
          "output_type": "stream",
          "text": [
            "Epoch 1/20\n",
            "20/20 [==============================] - 2s 123ms/step - loss: 0.6937 - acc: 0.4953 - val_loss: 0.6939 - val_acc: 0.4500\n",
            "Epoch 2/20\n",
            "20/20 [==============================] - 2s 88ms/step - loss: 0.6930 - acc: 0.5078 - val_loss: 0.6926 - val_acc: 0.5125\n",
            "Epoch 3/20\n",
            "20/20 [==============================] - 2s 88ms/step - loss: 0.6907 - acc: 0.5453 - val_loss: 0.6997 - val_acc: 0.4500\n",
            "Epoch 4/20\n",
            "20/20 [==============================] - 2s 87ms/step - loss: 0.6938 - acc: 0.5078 - val_loss: 0.6932 - val_acc: 0.4500\n",
            "Epoch 5/20\n",
            "20/20 [==============================] - 2s 86ms/step - loss: 0.6921 - acc: 0.5594 - val_loss: 0.6987 - val_acc: 0.4563\n",
            "Epoch 6/20\n",
            "20/20 [==============================] - 2s 88ms/step - loss: 0.6675 - acc: 0.5969 - val_loss: 0.7804 - val_acc: 0.4375\n",
            "Epoch 7/20\n",
            "20/20 [==============================] - 2s 88ms/step - loss: 0.6576 - acc: 0.6313 - val_loss: 0.7082 - val_acc: 0.5000\n",
            "Epoch 8/20\n",
            "20/20 [==============================] - 2s 89ms/step - loss: 0.6305 - acc: 0.6438 - val_loss: 0.7886 - val_acc: 0.4563\n",
            "Epoch 9/20\n",
            "20/20 [==============================] - 2s 89ms/step - loss: 0.5876 - acc: 0.7125 - val_loss: 0.8431 - val_acc: 0.4313\n",
            "Epoch 10/20\n",
            "20/20 [==============================] - 2s 90ms/step - loss: 0.5418 - acc: 0.7375 - val_loss: 0.9593 - val_acc: 0.4250\n",
            "Epoch 11/20\n",
            "20/20 [==============================] - 2s 89ms/step - loss: 0.5108 - acc: 0.7719 - val_loss: 1.0563 - val_acc: 0.4625\n",
            "Epoch 12/20\n",
            "20/20 [==============================] - 2s 90ms/step - loss: 0.4817 - acc: 0.7859 - val_loss: 0.9937 - val_acc: 0.4250\n",
            "Epoch 13/20\n",
            "20/20 [==============================] - 2s 89ms/step - loss: 0.4147 - acc: 0.8313 - val_loss: 1.0476 - val_acc: 0.4688\n",
            "Epoch 14/20\n",
            "20/20 [==============================] - 2s 91ms/step - loss: 0.3443 - acc: 0.8750 - val_loss: 1.1597 - val_acc: 0.5063\n",
            "Epoch 15/20\n",
            "20/20 [==============================] - 2s 91ms/step - loss: 0.3429 - acc: 0.8656 - val_loss: 1.3030 - val_acc: 0.4187\n",
            "Epoch 16/20\n",
            "20/20 [==============================] - 2s 90ms/step - loss: 0.3118 - acc: 0.8875 - val_loss: 1.4078 - val_acc: 0.4125\n",
            "Epoch 17/20\n",
            "20/20 [==============================] - 2s 91ms/step - loss: 0.3380 - acc: 0.8656 - val_loss: 1.4304 - val_acc: 0.4250\n",
            "Epoch 18/20\n",
            "20/20 [==============================] - 2s 93ms/step - loss: 0.2376 - acc: 0.9125 - val_loss: 1.5782 - val_acc: 0.4375\n",
            "Epoch 19/20\n",
            "20/20 [==============================] - 2s 90ms/step - loss: 0.1611 - acc: 0.9516 - val_loss: 1.9061 - val_acc: 0.4000\n",
            "Epoch 20/20\n",
            "20/20 [==============================] - 2s 89ms/step - loss: 0.1349 - acc: 0.9563 - val_loss: 1.7441 - val_acc: 0.4625\n",
            "7/7 [==============================] - 0s 23ms/step - loss: 1.6230 - acc: 0.5000\n"
          ],
          "name": "stdout"
        }
      ]
    },
    {
      "cell_type": "code",
      "metadata": {
        "colab": {
          "base_uri": "https://localhost:8080/",
          "height": 573
        },
        "id": "KDpFHtX8BRE9",
        "outputId": "4ed67220-cf2d-472b-f8e5-9fc4a660e0ac"
      },
      "source": [
        "import matplotlib.pyplot as plt\n",
        "plt.plot(history.history['acc'])\n",
        "plt.plot(history.history['val_acc'])\n",
        "\n",
        "plt.title('model accuracy')\n",
        "plt.ylabel('accuracy')\n",
        "plt.xlabel('epoch')\n",
        "plt.legend(['train','test'], loc='upper left')\n",
        "plt.show()\n",
        "\n",
        "plt.plot(history.history['loss'])\n",
        "plt.plot(history.history['val_loss'])\n",
        "\n",
        "plt.title('model loss')\n",
        "plt.ylabel('loss')\n",
        "plt.xlabel('epoch')\n",
        "plt.legend(['train','test'], loc='upper left')\n",
        "plt.show()"
      ],
      "execution_count": 156,
      "outputs": [
        {
          "output_type": "display_data",
          "data": {
            "image/png": "[encoded data removed]",
            "text/plain": [
              "<Figure size 432x288 with 1 Axes>"
            ]
          },
          "metadata": {
            "tags": [],
            "needs_background": "light"
          }
        },
        {
          "output_type": "display_data",
          "data": {
            "image/png": "[encoded data removed]",
            "text/plain": [
              "<Figure size 432x288 with 1 Axes>"
            ]
          },
          "metadata": {
            "tags": [],
            "needs_background": "light"
          }
        }
      ]
    },
    {
      "cell_type": "code",
      "metadata": {
        "id": "lswbde2G6DQ7"
      },
      "source": [
        "y_pred = model.predict(X_test)\n",
        "f = lambda x: 0 if x<0.5 else 1\n",
        "y_pred = list(map(f, y_pred))"
      ],
      "execution_count": 157,
      "outputs": []
    },
    {
      "cell_type": "code",
      "metadata": {
        "colab": {
          "base_uri": "https://localhost:8080/"
        },
        "id": "Ox_YwIXs6Rjr",
        "outputId": "9c2c07bf-f20c-42c4-db29-c4e1bfeb5580"
      },
      "source": [
        "abc = classification_report(y_test, y_pred, target_names=['Negative','Positive'])\n",
        "print(abc)"
      ],
      "execution_count": 158,
      "outputs": [
        {
          "output_type": "stream",
          "text": [
            "              precision    recall  f1-score   support\n",
            "\n",
            "    Negative       0.51      0.67      0.58       104\n",
            "    Positive       0.47      0.31      0.38        96\n",
            "\n",
            "    accuracy                           0.50       200\n",
            "   macro avg       0.49      0.49      0.48       200\n",
            "weighted avg       0.49      0.50      0.48       200\n",
            "\n"
          ],
          "name": "stdout"
        }
      ]
    },
    {
      "cell_type": "code",
      "metadata": {
        "colab": {
          "base_uri": "https://localhost:8080/"
        },
        "id": "nTmv1Pni6UCo",
        "outputId": "a72d15c5-ff42-4e5b-b2f3-7f973401c288"
      },
      "source": [
        "confusion_matrix(y_test, y_pred)"
      ],
      "execution_count": 159,
      "outputs": [
        {
          "output_type": "execute_result",
          "data": {
            "text/plain": [
              "array([[70, 34],\n",
              "       [66, 30]])"
            ]
          },
          "metadata": {
            "tags": []
          },
          "execution_count": 159
        }
      ]
    }
  ]
}