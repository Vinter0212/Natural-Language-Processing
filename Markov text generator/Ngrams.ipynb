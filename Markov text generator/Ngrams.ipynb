{
 "cells": [
  {
   "cell_type": "markdown",
   "metadata": {},
   "source": [
    "<h1> Created by: Vinayak Gupta, Vaishali Jain </h1>"
   ]
  },
  {
   "cell_type": "code",
   "execution_count": 1,
   "metadata": {
    "colab": {
     "base_uri": "https://localhost:8080/",
     "height": 70
    },
    "colab_type": "code",
    "executionInfo": {
     "elapsed": 557,
     "status": "ok",
     "timestamp": 1600139742636,
     "user": {
      "displayName": "Vaishali Jain",
      "photoUrl": "https://lh3.googleusercontent.com/a-/AOh14GiQFkeuxG__hFCaoYyvW-D9ght6q54FwavdZxQ8pQ=s64",
      "userId": "03071639001797583916"
     },
     "user_tz": 240
    },
    "id": "UjPSnkooakYu",
    "outputId": "d4d41fad-2412-4807-b0fa-54f969abb62b"
   },
   "outputs": [
    {
     "name": "stderr",
     "output_type": "stream",
     "text": [
      "[nltk_data] Downloading package gutenberg to\n",
      "[nltk_data]     C:\\Users\\vinay\\AppData\\Roaming\\nltk_data...\n",
      "[nltk_data]   Package gutenberg is already up-to-date!\n"
     ]
    },
    {
     "data": {
      "text/plain": [
       "True"
      ]
     },
     "execution_count": 1,
     "metadata": {},
     "output_type": "execute_result"
    }
   ],
   "source": [
    "import nltk\n",
    "import numpy as np\n",
    "nltk.download('gutenberg')"
   ]
  },
  {
   "cell_type": "code",
   "execution_count": 2,
   "metadata": {
    "colab": {},
    "colab_type": "code",
    "executionInfo": {
     "elapsed": 873,
     "status": "ok",
     "timestamp": 1600139742974,
     "user": {
      "displayName": "Vaishali Jain",
      "photoUrl": "https://lh3.googleusercontent.com/a-/AOh14GiQFkeuxG__hFCaoYyvW-D9ght6q54FwavdZxQ8pQ=s64",
      "userId": "03071639001797583916"
     },
     "user_tz": 240
    },
    "id": "qO8NUNRTZy1l"
   },
   "outputs": [],
   "source": [
    "sentence = ['she', 'was', 'not']\n",
    "n = 3\n",
    "corpus = [\n",
    "    w.lower() for w in\n",
    "    nltk.corpus.gutenberg.words('austen-sense.txt')\n",
    "    ]"
   ]
  },
  {
   "cell_type": "code",
   "execution_count": 3,
   "metadata": {},
   "outputs": [],
   "source": [
    "#Use to create a dictionary of dictionary where the outer dictionary contains te last n-1 tokens and \n",
    "#the inner dictionary is just a frequency of the nth token\n",
    "\n",
    "def preprocess_probdist(corpus,n,prob_dist):\n",
    "    if(n==1):\n",
    "        return prob_dist\n",
    "    for idx in range(n-1,len(corpus)):\n",
    "        tup= tuple(corpus[idx-n+1:idx])\n",
    "        current_word= corpus[idx]\n",
    "        if tup not in prob_dist:\n",
    "            prob_dist[tup] = {current_word:1}\n",
    "        else:\n",
    "            if current_word in prob_dist[tup]:\n",
    "                prob_dist[tup][current_word]+=1\n",
    "            else:\n",
    "                prob_dist[tup][current_word]=1\n",
    "    return prob_dist"
   ]
  },
  {
   "cell_type": "code",
   "execution_count": 4,
   "metadata": {},
   "outputs": [],
   "source": [
    "#Used to find the best word to return from the inner dictionary deterministically as well as non-deterministically\n",
    "def helper(last_n_gram,prob_dist,deterministic):\n",
    "    max_val=0\n",
    "    if(deterministic):\n",
    "        for i in prob_dist[last_n_gram]:\n",
    "            if prob_dist[last_n_gram][i]> max_val:\n",
    "                max_val = prob_dist[last_n_gram][i]\n",
    "                best_word= i\n",
    "            elif(prob_dist[last_n_gram][i]==max_val):\n",
    "                if(i>best_word):\n",
    "                    best_word=i        \n",
    "    else:           \n",
    "        keys = prob_dist[last_n_gram].keys()\n",
    "        values = prob_dist[last_n_gram].values()\n",
    "        val_sum = sum(values)\n",
    "        values = [float(i)/val_sum for i in values]\n",
    "        best_word = np.random.choice(list(keys),p = values)\n",
    "    return best_word"
   ]
  },
  {
   "cell_type": "code",
   "execution_count": 5,
   "metadata": {},
   "outputs": [],
   "source": [
    "#Special case to create a dictionary when a unigram is being used in a non-deterministic way\n",
    "def non_deterministic_unigram(corpus):\n",
    "    d={}\n",
    "    for i in corpus:\n",
    "        if i in d:\n",
    "            d[i]+=1\n",
    "        else:\n",
    "            d[i]=1\n",
    "    keys = d.keys()\n",
    "    values = d.values()\n",
    "    values = [float(i)/len(corpus) for i in values]\n",
    "    return keys,values"
   ]
  },
  {
   "cell_type": "code",
   "execution_count": 6,
   "metadata": {},
   "outputs": [],
   "source": [
    "def finish_sentence(sentence, n, corpus, deterministic):\n",
    "    end_words = ['.', '?', '!']\n",
    "    prob_dist={}\n",
    "    prob_dist=preprocess_probdist(corpus,n,prob_dist)\n",
    "    #print(prob_dist)\n",
    "    min_ngram_in_dict=n\n",
    "    n_gram_reach_1=0\n",
    "    while(sentence[-1][0] not in end_words and len(sentence)<15):\n",
    "        last_n_gram= tuple(sentence[-(n-1):])\n",
    "        gram_length=n\n",
    "        appended=0\n",
    "        while(gram_length>1):\n",
    "            if gram_length< min_ngram_in_dict:\n",
    "                prob_dist=preprocess_probdist(corpus,gram_length,prob_dist)\n",
    "                min_ngram_in_dict-=1\n",
    "            last_n_gram = last_n_gram[(n-gram_length):]\n",
    "            #print(last_n_gram)\n",
    "            if last_n_gram in prob_dist:\n",
    "                best_word=helper(last_n_gram,prob_dist,deterministic)\n",
    "                sentence.append(best_word)\n",
    "                appended=1\n",
    "                break\n",
    "            gram_length-=1\n",
    "        if(appended==0):\n",
    "            if(deterministic):\n",
    "                if (n_gram_reach_1==0):\n",
    "                    max_word=max(set(corpus), key = corpus.count)\n",
    "                #print(max_word)\n",
    "                    n_gram_reach_1=1\n",
    "            else:\n",
    "                if(n_gram_reach_1==0):\n",
    "                    unigram_keys, unigram_values = non_deterministic_unigram(corpus)\n",
    "                max_word = np.random.choice(list(unigram_keys),p = unigram_values)\n",
    "            sentence.append(max_word) \n",
    "    #print(prob_dist[(',')])\n",
    "    return sentence"
   ]
  },
  {
   "cell_type": "markdown",
   "metadata": {},
   "source": [
    "**Non-deterministic case**"
   ]
  },
  {
   "cell_type": "code",
   "execution_count": 7,
   "metadata": {},
   "outputs": [
    {
     "data": {
      "text/plain": [
       "['she',\n",
       " 'was',\n",
       " 'not',\n",
       " 'very',\n",
       " 'material',\n",
       " ';',\n",
       " 'and',\n",
       " 'as',\n",
       " 'it',\n",
       " 'is',\n",
       " 'very',\n",
       " 'considerable',\n",
       " ';',\n",
       " 'and',\n",
       " 'secretly']"
      ]
     },
     "execution_count": 7,
     "metadata": {},
     "output_type": "execute_result"
    }
   ],
   "source": [
    "sentence = ['she', 'was', 'not']\n",
    "sentence_1 = finish_sentence(sentence, n, corpus, False)\n",
    "sentence_1"
   ]
  },
  {
   "cell_type": "markdown",
   "metadata": {},
   "source": [
    "**Deterministic case**"
   ]
  },
  {
   "cell_type": "code",
   "execution_count": 8,
   "metadata": {},
   "outputs": [
    {
     "data": {
      "text/plain": [
       "['she',\n",
       " 'was',\n",
       " 'not',\n",
       " 'in',\n",
       " 'the',\n",
       " 'world',\n",
       " ',',\n",
       " 'and',\n",
       " 'the',\n",
       " 'two',\n",
       " 'miss',\n",
       " 'steeles',\n",
       " ',',\n",
       " 'as',\n",
       " 'she']"
      ]
     },
     "execution_count": 8,
     "metadata": {},
     "output_type": "execute_result"
    }
   ],
   "source": [
    "sentence = ['she', 'was', 'not']\n",
    "sentence_2 = finish_sentence(sentence, n, corpus, True)\n",
    "sentence_2"
   ]
  },
  {
   "cell_type": "code",
   "execution_count": null,
   "metadata": {},
   "outputs": [],
   "source": []
  }
 ],
 "metadata": {
  "colab": {
   "collapsed_sections": [],
   "name": "Ngrams.ipynb",
   "provenance": []
  },
  "kernelspec": {
   "display_name": "Python 3",
   "language": "python",
   "name": "python3"
  },
  "language_info": {
   "codemirror_mode": {
    "name": "ipython",
    "version": 3
   },
   "file_extension": ".py",
   "mimetype": "text/x-python",
   "name": "python",
   "nbconvert_exporter": "python",
   "pygments_lexer": "ipython3",
   "version": "3.7.5"
  }
 },
 "nbformat": 4,
 "nbformat_minor": 1
}
